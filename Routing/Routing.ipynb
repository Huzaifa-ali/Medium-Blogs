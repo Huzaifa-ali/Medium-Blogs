{
  "nbformat": 4,
  "nbformat_minor": 0,
  "metadata": {
    "colab": {
      "provenance": []
    },
    "kernelspec": {
      "name": "python3",
      "display_name": "Python 3"
    },
    "language_info": {
      "name": "python"
    }
  },
  "cells": [
    {
      "cell_type": "code",
      "execution_count": 1,
      "metadata": {
        "colab": {
          "base_uri": "https://localhost:8080/",
          "height": 0
        },
        "id": "K8jCbbu-AhVw",
        "outputId": "c7c263ae-f4eb-4101-c788-c0c84e81530e"
      },
      "outputs": [
        {
          "output_type": "stream",
          "name": "stdout",
          "text": [
            "\u001b[2K     \u001b[90m━━━━━━━━━━━━━━━━━━━━━━━━━━━━━━━━━━━━━━━━\u001b[0m \u001b[32m43.7/43.7 kB\u001b[0m \u001b[31m1.6 MB/s\u001b[0m eta \u001b[36m0:00:00\u001b[0m\n",
            "\u001b[2K   \u001b[90m━━━━━━━━━━━━━━━━━━━━━━━━━━━━━━━━━━━━━━━━\u001b[0m \u001b[32m2.5/2.5 MB\u001b[0m \u001b[31m26.7 MB/s\u001b[0m eta \u001b[36m0:00:00\u001b[0m\n",
            "\u001b[2K   \u001b[90m━━━━━━━━━━━━━━━━━━━━━━━━━━━━━━━━━━━━━━━━\u001b[0m \u001b[32m154.8/154.8 kB\u001b[0m \u001b[31m11.1 MB/s\u001b[0m eta \u001b[36m0:00:00\u001b[0m\n",
            "\u001b[2K   \u001b[90m━━━━━━━━━━━━━━━━━━━━━━━━━━━━━━━━━━━━━━━━\u001b[0m \u001b[32m75.6/75.6 kB\u001b[0m \u001b[31m6.7 MB/s\u001b[0m eta \u001b[36m0:00:00\u001b[0m\n",
            "\u001b[2K   \u001b[90m━━━━━━━━━━━━━━━━━━━━━━━━━━━━━━━━━━━━━━━━\u001b[0m \u001b[32m43.9/43.9 kB\u001b[0m \u001b[31m3.3 MB/s\u001b[0m eta \u001b[36m0:00:00\u001b[0m\n",
            "\u001b[2K   \u001b[90m━━━━━━━━━━━━━━━━━━━━━━━━━━━━━━━━━━━━━━━━\u001b[0m \u001b[32m56.8/56.8 kB\u001b[0m \u001b[31m4.5 MB/s\u001b[0m eta \u001b[36m0:00:00\u001b[0m\n",
            "\u001b[2K   \u001b[90m━━━━━━━━━━━━━━━━━━━━━━━━━━━━━━━━━━━━━━━━\u001b[0m \u001b[32m64.7/64.7 kB\u001b[0m \u001b[31m5.2 MB/s\u001b[0m eta \u001b[36m0:00:00\u001b[0m\n",
            "\u001b[2K   \u001b[90m━━━━━━━━━━━━━━━━━━━━━━━━━━━━━━━━━━━━━━━━\u001b[0m \u001b[32m50.9/50.9 kB\u001b[0m \u001b[31m3.8 MB/s\u001b[0m eta \u001b[36m0:00:00\u001b[0m\n",
            "\u001b[2K   \u001b[90m━━━━━━━━━━━━━━━━━━━━━━━━━━━━━━━━━━━━━━━━\u001b[0m \u001b[32m216.7/216.7 kB\u001b[0m \u001b[31m12.0 MB/s\u001b[0m eta \u001b[36m0:00:00\u001b[0m\n",
            "\u001b[?25h\u001b[31mERROR: pip's dependency resolver does not currently take into account all the packages that are installed. This behaviour is the source of the following dependency conflicts.\n",
            "google-colab 1.0.0 requires requests==2.32.4, but you have requests 2.32.5 which is incompatible.\u001b[0m\u001b[31m\n",
            "\u001b[0m"
          ]
        }
      ],
      "source": [
        "!pip install --quiet --upgrade langchain langchain-community langgraph langchain_openai\n"
      ]
    },
    {
      "cell_type": "code",
      "source": [
        "from typing import Literal, Annotated\n",
        "from typing_extensions import TypedDict\n",
        "from pydantic import BaseModel, Field\n",
        "from langgraph.graph import StateGraph, END, START\n",
        "from langchain.chat_models.base import init_chat_model\n",
        "from langchain_core.messages import SystemMessage, HumanMessage\n",
        "\n",
        "def get_llm():\n",
        "    \"\"\"Initialize the LLM with OpenRouter\"\"\"\n",
        "    return init_chat_model(\n",
        "        model=\"openai/gpt-oss-20b:free\",\n",
        "        model_provider=\"openai\",\n",
        "        base_url=\"https://openrouter.ai/api/v1\",\n",
        "        api_key=\"you api key\",  # Replace with your key\n",
        "        temperature=0.1,\n",
        "        max_tokens=4096,\n",
        "        model_kwargs={\"top_p\": 0.95}\n",
        "    )\n",
        "\n",
        "class RouteDecision(BaseModel):\n",
        "    \"\"\"\n",
        "    LLM outputs this to decide where to route the user.\n",
        "\n",
        "    Fields explained:\n",
        "    - route: Which agent should handle this? (\"booking\", \"info\", or \"unclear\")\n",
        "    \"\"\"\n",
        "    route: Literal[\"booking\", \"info\", \"unclear\"] = Field(\n",
        "        description=\"The category of the user's request\"\n",
        "    )\n",
        "\n",
        "\n",
        "class AgentResponse(BaseModel):\n",
        "    \"\"\"\n",
        "    Each agent outputs this as their response.\n",
        "\n",
        "    Fields explained:\n",
        "    - message: The actual text response shown to the user\n",
        "    \"\"\"\n",
        "    message: str = Field(\n",
        "        description=\"The response message to the user\"\n",
        "    )\n",
        "\n",
        "\n",
        "\n",
        "class AgentState(TypedDict):\n",
        "    \"\"\"\n",
        "    The \"shared memory\" that passes between nodes in the graph.\n",
        "    Think of it like a form that gets filled out as it moves through agents.\n",
        "\n",
        "    Fields explained:\n",
        "    - user_input: What the user typed/said (INPUT - comes from user)\n",
        "    - route: Which agent to use (\"booking\", \"info\", \"unclear\") (SET BY ROUTER)\n",
        "    - response: The final answer to show the user (SET BY AGENT)\n",
        "    \"\"\"\n",
        "    user_input: str\n",
        "    route: str\n",
        "    response: str\n",
        "\n",
        "\n",
        "def router_node(state: AgentState) -> AgentState:\n",
        "    \"\"\"\n",
        "    Intelligent router using LLM with structured output.\n",
        "    Classifies user intent with confidence scoring.\n",
        "    \"\"\"\n",
        "    llm = get_llm()\n",
        "    structured_llm = llm.with_structured_output(RouteDecision)\n",
        "    system_prompt = \"\"\"You are an expert intent classifier for a customer service system.\n",
        "\n",
        "    Analyze the user's message and classify it into one of these categories:\n",
        "\n",
        "    1. **booking**: User wants to make a reservation, schedule an appointment, or book any service\n",
        "      - Keywords: book, reserve, schedule, appointment, reservation, arrange\n",
        "      - Examples: \"I need to book a table\", \"Schedule an appointment\", \"Reserve a room\"\n",
        "\n",
        "    2. **info**: User is asking for information or has questions\n",
        "      - Keywords: what, how, when, where, why, tell me, information, details, price, cost, hours\n",
        "      - Examples: \"What are your hours?\", \"How much does it cost?\", \"Where are you located?\"\n",
        "\n",
        "    3. **unclear**: User's intent is ambiguous or doesn't fit the above categories\n",
        "      - Examples: \"Hello\", \"Help\", \"I need assistance\", vague statements\n",
        "\n",
        "    Provide:\n",
        "    - The route classification only\n",
        "    \"\"\"\n",
        "\n",
        "    messages = [\n",
        "        SystemMessage(content=system_prompt),\n",
        "        HumanMessage(content=f\"User message: {state['user_input']}\")\n",
        "    ]\n",
        "    decision: RouteDecision = structured_llm.invoke(messages)\n",
        "    state[\"route\"] = decision.route\n",
        "    print(f\"\\n🧭 ROUTER → Routing to: {decision.route}\")\n",
        "    return state\n",
        "\n",
        "def booking_agent(state: AgentState) -> AgentState:\n",
        "    \"\"\"\n",
        "    Handles booking and reservation requests using LLM.\n",
        "    \"\"\"\n",
        "    llm = get_llm()\n",
        "    structured_llm = llm.with_structured_output(AgentResponse)\n",
        "\n",
        "    system_prompt = \"\"\"You are a booking specialist agent.\n",
        "    Your job is to help users make reservations and schedule appointments.\n",
        "    Guidelines:\n",
        "    - Be friendly and professional\n",
        "    - Ask for necessary details (date, time, number of people, etc.)\n",
        "    - Confirm what type of booking they need\n",
        "    - Provide clear next steps\n",
        "    - If information is missing, politely ask for it\n",
        "    Always structure your response with:\n",
        "    - A helpful message only\n",
        "    \"\"\"\n",
        "\n",
        "    messages = [\n",
        "        SystemMessage(content=system_prompt),\n",
        "        HumanMessage(content=f\"User request: {state['user_input']}\\n\\nHelp them with their booking.\")\n",
        "    ]\n",
        "    response: AgentResponse = structured_llm.invoke(messages)\n",
        "    state[\"response\"] = response.message\n",
        "    print(f\"\\n🎫 BOOKING AGENT → Generated response\")\n",
        "    return state\n",
        "\n",
        "\n",
        "def info_agent(state: AgentState) -> AgentState:\n",
        "    \"\"\"\n",
        "    Provides information and answers questions using LLM.\n",
        "    \"\"\"\n",
        "    llm = get_llm()\n",
        "    structured_llm = llm.with_structured_output(AgentResponse)\n",
        "\n",
        "    system_prompt = \"\"\"You are an information specialist agent.\n",
        "    Your job is to answer user questions and provide helpful information.\n",
        "    Knowledge base (use this to answer):\n",
        "    - Business hours: Monday-Friday 9 AM - 6 PM, Saturday 10 AM - 4 PM, Closed Sunday\n",
        "    - Location: 123 Main Street, Downtown City\n",
        "    - Pricing: Basic ($50), Standard ($100), Premium ($150)\n",
        "    - Services: Restaurant reservations, Hotel bookings, Event planning\n",
        "    - Contact: info@example.com, (555) 123-4567\n",
        "    Guidelines:\n",
        "    - Provide accurate, specific information\n",
        "    - Be concise but complete\n",
        "    - If you don't have the information, suggest contacting support\n",
        "    - Offer to help with related questions\n",
        "    Always structure your response with:\n",
        "    - A helpful message only\n",
        "    \"\"\"\n",
        "\n",
        "    messages = [\n",
        "        SystemMessage(content=system_prompt),\n",
        "        HumanMessage(content=f\"User question: {state['user_input']}\\n\\nProvide the information they need.\")\n",
        "    ]\n",
        "\n",
        "    response: AgentResponse = structured_llm.invoke(messages)\n",
        "\n",
        "    state[\"response\"] = response.message\n",
        "\n",
        "    print(f\"\\nℹ️  INFO AGENT → Generated response\")\n",
        "\n",
        "    return state\n",
        "\n",
        "\n",
        "def unclear_agent(state: AgentState) -> AgentState:\n",
        "    \"\"\"\n",
        "    Handles unclear requests and helps clarify user intent.\n",
        "    \"\"\"\n",
        "    llm = get_llm()\n",
        "    structured_llm = llm.with_structured_output(AgentResponse)\n",
        "\n",
        "    system_prompt = \"\"\"You are a clarification specialist agent.\n",
        "\n",
        "Your job is to help when user intent is unclear or ambiguous.\n",
        "\n",
        "Guidelines:\n",
        "- Be warm and welcoming\n",
        "- Don't make the user feel bad for being unclear\n",
        "- Present clear options for what you can help with\n",
        "- Ask targeted questions to understand their needs\n",
        "- Offer specific examples of what you can do\n",
        "\n",
        "Capabilities you can offer:\n",
        "1. Booking services (restaurants, hotels, appointments)\n",
        "2. Information requests (hours, location, pricing, services)\n",
        "3. General assistance and guidance\n",
        "\n",
        "Always structure your response with:\n",
        "- A friendly message with clear options only\n",
        "\"\"\"\n",
        "\n",
        "    messages = [\n",
        "        SystemMessage(content=system_prompt),\n",
        "        HumanMessage(content=f\"User message: {state['user_input']}\\n\\nHelp clarify what they need.\")\n",
        "    ]\n",
        "\n",
        "    response: AgentResponse = structured_llm.invoke(messages)\n",
        "\n",
        "    state[\"response\"] = response.message\n",
        "\n",
        "    print(f\"\\n🤔 CLARIFICATION AGENT → Generated response\")\n",
        "\n",
        "    return state\n",
        "\n",
        "\n",
        "def route_to_agent(state: AgentState) -> Literal[\"booking\", \"info\", \"unclear\"]:\n",
        "    \"\"\"\n",
        "    Conditional edge function that determines which agent to invoke.\n",
        "    \"\"\"\n",
        "    return state[\"route\"]\n",
        "\n",
        "\n",
        "def create_agent_graph():\n",
        "    \"\"\"\n",
        "    Builds the LangGraph workflow with LLM-powered routing.\n",
        "    \"\"\"\n",
        "    workflow = StateGraph(AgentState)\n",
        "\n",
        "    workflow.add_node(\"router\", router_node)\n",
        "    workflow.add_node(\"booking\", booking_agent)\n",
        "    workflow.add_node(\"info\", info_agent)\n",
        "    workflow.add_node(\"unclear\", unclear_agent)\n",
        "\n",
        "    workflow.add_edge(START, \"router\")\n",
        "\n",
        "    workflow.add_conditional_edges(\n",
        "        \"router\",\n",
        "        route_to_agent,\n",
        "        {\n",
        "            \"booking\": \"booking\",\n",
        "            \"info\": \"info\",\n",
        "            \"unclear\": \"unclear\"\n",
        "        }\n",
        "    )\n",
        "\n",
        "    workflow.add_edge(\"booking\", END)\n",
        "    workflow.add_edge(\"info\", END)\n",
        "    workflow.add_edge(\"unclear\", END)\n",
        "\n",
        "    return workflow.compile()\n"
      ],
      "metadata": {
        "id": "q2nZex6SAlQn"
      },
      "execution_count": 16,
      "outputs": []
    },
    {
      "cell_type": "code",
      "source": [
        "from IPython.display import display, Markdown, Image\n",
        "\n",
        "graph = create_agent_graph()\n",
        "\n",
        "display(Image(graph.get_graph().draw_mermaid_png()))"
      ],
      "metadata": {
        "colab": {
          "base_uri": "https://localhost:8080/",
          "height": 350
        },
        "id": "XKzfLgQo8-RF",
        "outputId": "635d4bd5-e6b3-4dc3-ba54-83f7fb4db5e2"
      },
      "execution_count": 17,
      "outputs": [
        {
          "output_type": "display_data",
          "data": {
            "image/png": "[encoded data removed]",
            "text/plain": [
              "<IPython.core.display.Image object>"
            ]
          },
          "metadata": {}
        }
      ]
    },
    {
      "cell_type": "code",
      "source": [
        "def run_demo():\n",
        "    \"\"\"\n",
        "    Demonstrates the agent routing system with various test cases.\n",
        "    \"\"\"\n",
        "    app = create_agent_graph()\n",
        "\n",
        "    test_cases = [\n",
        "        \"I want to book a table for 4 people tonight at 7pm\",\n",
        "        \"What are your business hours?\",\n",
        "        \"Hello, can you help me?\",\n",
        "        \"How much does the premium package cost?\",\n",
        "        \"I need to schedule an appointment for next Tuesday\",\n",
        "        \"Where is your office located?\",\n",
        "        \"Thanks!\",\n",
        "        \"I want to reserve a hotel room for the weekend\"\n",
        "    ]\n",
        "\n",
        "    print(\"=\" * 80)\n",
        "    print(\"AGENT ROUTING SYSTEM DEMO - LLM Powered\")\n",
        "    print(\"=\" * 80)\n",
        "\n",
        "    for i, user_input in enumerate(test_cases, 1):\n",
        "        print(f\"\\n{'=' * 80}\")\n",
        "        print(f\"TEST CASE {i}/{len(test_cases)}\")\n",
        "        print(f\"{'=' * 80}\")\n",
        "        print(f\"👤 User: {user_input}\")\n",
        "\n",
        "        initial_state = {\n",
        "            \"user_input\": user_input,\n",
        "        }\n",
        "\n",
        "        result = app.invoke(initial_state)\n",
        "\n",
        "        print(f\"\\n🤖 Agent Response:\")\n",
        "        print(f\"   {result['response']}\")\n",
        "\n",
        "        if result.get('needs_followup'):\n",
        "            print(f\"\\n   ⚠️  Follow-up needed\")\n",
        "\n",
        "        print(f\"\\n{'─' * 80}\")\n",
        "\n",
        "\n"
      ],
      "metadata": {
        "id": "-sNEDlhuAlOe"
      },
      "execution_count": 18,
      "outputs": []
    },
    {
      "cell_type": "code",
      "source": [
        "run_demo()\n",
        "\n"
      ],
      "metadata": {
        "colab": {
          "base_uri": "https://localhost:8080/"
        },
        "id": "aZ740-MJAlMX",
        "outputId": "016474df-345d-4d90-c655-ea234d8885f5"
      },
      "execution_count": 19,
      "outputs": [
        {
          "output_type": "stream",
          "name": "stdout",
          "text": [
            "================================================================================\n",
            "AGENT ROUTING SYSTEM DEMO - LLM Powered\n",
            "================================================================================\n",
            "\n",
            "================================================================================\n",
            "TEST CASE 1/8\n",
            "================================================================================\n",
            "👤 User: I want to book a table for 4 people tonight at 7pm\n"
          ]
        },
        {
          "output_type": "stream",
          "name": "stderr",
          "text": [
            "/tmp/ipython-input-1076811982.py:10: UserWarning: Parameters {'top_p'} should be specified explicitly. Instead they were passed in as part of `model_kwargs` parameter.\n",
            "  return init_chat_model(\n"
          ]
        },
        {
          "output_type": "stream",
          "name": "stdout",
          "text": [
            "\n",
            "🧭 ROUTER → Routing to: booking\n"
          ]
        },
        {
          "output_type": "stream",
          "name": "stderr",
          "text": [
            "/tmp/ipython-input-1076811982.py:10: UserWarning: Parameters {'top_p'} should be specified explicitly. Instead they were passed in as part of `model_kwargs` parameter.\n",
            "  return init_chat_model(\n"
          ]
        },
        {
          "output_type": "stream",
          "name": "stdout",
          "text": [
            "\n",
            "🎫 BOOKING AGENT → Generated response\n",
            "\n",
            "🤖 Agent Response:\n",
            "   Sure! I'd be happy to help you reserve a table for 4 people tonight at 7 pm. Could you let me know which restaurant you'd like to dine at, and if you have a preferred contact number or email for the confirmation? Once I have those details, I’ll lock in the reservation for you.\n",
            "\n",
            "────────────────────────────────────────────────────────────────────────────────\n",
            "\n",
            "================================================================================\n",
            "TEST CASE 2/8\n",
            "================================================================================\n",
            "👤 User: What are your business hours?\n"
          ]
        },
        {
          "output_type": "stream",
          "name": "stderr",
          "text": [
            "/tmp/ipython-input-1076811982.py:10: UserWarning: Parameters {'top_p'} should be specified explicitly. Instead they were passed in as part of `model_kwargs` parameter.\n",
            "  return init_chat_model(\n"
          ]
        },
        {
          "output_type": "stream",
          "name": "stdout",
          "text": [
            "\n",
            "🧭 ROUTER → Routing to: info\n"
          ]
        },
        {
          "output_type": "stream",
          "name": "stderr",
          "text": [
            "/tmp/ipython-input-1076811982.py:10: UserWarning: Parameters {'top_p'} should be specified explicitly. Instead they were passed in as part of `model_kwargs` parameter.\n",
            "  return init_chat_model(\n"
          ]
        },
        {
          "output_type": "stream",
          "name": "stdout",
          "text": [
            "\n",
            "ℹ️  INFO AGENT → Generated response\n",
            "\n",
            "🤖 Agent Response:\n",
            "   Our business hours are Monday‑Friday 9 AM–6 PM, Saturday 10 AM–4 PM, and we are closed on Sundays. Let me know if you need anything else!\n",
            "\n",
            "────────────────────────────────────────────────────────────────────────────────\n",
            "\n",
            "================================================================================\n",
            "TEST CASE 3/8\n",
            "================================================================================\n",
            "👤 User: Hello, can you help me?\n"
          ]
        },
        {
          "output_type": "stream",
          "name": "stderr",
          "text": [
            "/tmp/ipython-input-1076811982.py:10: UserWarning: Parameters {'top_p'} should be specified explicitly. Instead they were passed in as part of `model_kwargs` parameter.\n",
            "  return init_chat_model(\n"
          ]
        },
        {
          "output_type": "stream",
          "name": "stdout",
          "text": [
            "\n",
            "🧭 ROUTER → Routing to: unclear\n"
          ]
        },
        {
          "output_type": "stream",
          "name": "stderr",
          "text": [
            "/tmp/ipython-input-1076811982.py:10: UserWarning: Parameters {'top_p'} should be specified explicitly. Instead they were passed in as part of `model_kwargs` parameter.\n",
            "  return init_chat_model(\n"
          ]
        },
        {
          "output_type": "stream",
          "name": "stdout",
          "text": [
            "\n",
            "🤔 CLARIFICATION AGENT → Generated response\n",
            "\n",
            "🤖 Agent Response:\n",
            "   Hello! I’d love to help you out. Could you let me know what you’re looking for? Here are a few ways I can assist:\n",
            "\n",
            "1. **Booking services** – e.g., restaurants, hotels, or appointments.\n",
            "2. **Information requests** – e.g., hours, location, pricing, or services.\n",
            "3. **General assistance and guidance** – e.g., travel tips, recommendations, or anything else you have in mind.\n",
            "\n",
            "Just let me know which one (or more) sounds right, or feel free to describe what you need!\n",
            "\n",
            "────────────────────────────────────────────────────────────────────────────────\n",
            "\n",
            "================================================================================\n",
            "TEST CASE 4/8\n",
            "================================================================================\n",
            "👤 User: How much does the premium package cost?\n"
          ]
        },
        {
          "output_type": "stream",
          "name": "stderr",
          "text": [
            "/tmp/ipython-input-1076811982.py:10: UserWarning: Parameters {'top_p'} should be specified explicitly. Instead they were passed in as part of `model_kwargs` parameter.\n",
            "  return init_chat_model(\n"
          ]
        },
        {
          "output_type": "stream",
          "name": "stdout",
          "text": [
            "\n",
            "🧭 ROUTER → Routing to: info\n"
          ]
        },
        {
          "output_type": "stream",
          "name": "stderr",
          "text": [
            "/tmp/ipython-input-1076811982.py:10: UserWarning: Parameters {'top_p'} should be specified explicitly. Instead they were passed in as part of `model_kwargs` parameter.\n",
            "  return init_chat_model(\n"
          ]
        },
        {
          "output_type": "stream",
          "name": "stdout",
          "text": [
            "\n",
            "ℹ️  INFO AGENT → Generated response\n",
            "\n",
            "🤖 Agent Response:\n",
            "   The premium package costs $150. Let me know if you need help with anything else.\n",
            "\n",
            "────────────────────────────────────────────────────────────────────────────────\n",
            "\n",
            "================================================================================\n",
            "TEST CASE 5/8\n",
            "================================================================================\n",
            "👤 User: I need to schedule an appointment for next Tuesday\n"
          ]
        },
        {
          "output_type": "stream",
          "name": "stderr",
          "text": [
            "/tmp/ipython-input-1076811982.py:10: UserWarning: Parameters {'top_p'} should be specified explicitly. Instead they were passed in as part of `model_kwargs` parameter.\n",
            "  return init_chat_model(\n"
          ]
        },
        {
          "output_type": "stream",
          "name": "stdout",
          "text": [
            "\n",
            "🧭 ROUTER → Routing to: booking\n"
          ]
        },
        {
          "output_type": "stream",
          "name": "stderr",
          "text": [
            "/tmp/ipython-input-1076811982.py:10: UserWarning: Parameters {'top_p'} should be specified explicitly. Instead they were passed in as part of `model_kwargs` parameter.\n",
            "  return init_chat_model(\n"
          ]
        },
        {
          "output_type": "stream",
          "name": "stdout",
          "text": [
            "\n",
            "🎫 BOOKING AGENT → Generated response\n",
            "\n",
            "🤖 Agent Response:\n",
            "   Sure! I'd be happy to help you schedule your appointment for next Tuesday. Could you let me know a few details so I can get everything set up?\n",
            "\n",
            "1. **Preferred time** – Do you have a specific time in mind, or would you like me to suggest a few available slots?\n",
            "2. **Number of people** – How many people will be attending the appointment?\n",
            "3. **Type of appointment** – Is this a consultation, a service visit, a meeting, or something else?\n",
            "4. **Any special requests** – Do you need a particular room, equipment, or anything else?\n",
            "\n",
            "Once I have this information, I’ll confirm the exact date and time, provide a confirmation number, and let you know what to expect next. Looking forward to hearing from you!\n",
            "\n",
            "────────────────────────────────────────────────────────────────────────────────\n",
            "\n",
            "================================================================================\n",
            "TEST CASE 6/8\n",
            "================================================================================\n",
            "👤 User: Where is your office located?\n"
          ]
        },
        {
          "output_type": "stream",
          "name": "stderr",
          "text": [
            "/tmp/ipython-input-1076811982.py:10: UserWarning: Parameters {'top_p'} should be specified explicitly. Instead they were passed in as part of `model_kwargs` parameter.\n",
            "  return init_chat_model(\n"
          ]
        },
        {
          "output_type": "stream",
          "name": "stdout",
          "text": [
            "\n",
            "🧭 ROUTER → Routing to: info\n"
          ]
        },
        {
          "output_type": "stream",
          "name": "stderr",
          "text": [
            "/tmp/ipython-input-1076811982.py:10: UserWarning: Parameters {'top_p'} should be specified explicitly. Instead they were passed in as part of `model_kwargs` parameter.\n",
            "  return init_chat_model(\n"
          ]
        },
        {
          "output_type": "stream",
          "name": "stdout",
          "text": [
            "\n",
            "ℹ️  INFO AGENT → Generated response\n",
            "\n",
            "🤖 Agent Response:\n",
            "   A helpful message only\n",
            "\n",
            "────────────────────────────────────────────────────────────────────────────────\n",
            "\n",
            "================================================================================\n",
            "TEST CASE 7/8\n",
            "================================================================================\n",
            "👤 User: Thanks!\n"
          ]
        },
        {
          "output_type": "stream",
          "name": "stderr",
          "text": [
            "/tmp/ipython-input-1076811982.py:10: UserWarning: Parameters {'top_p'} should be specified explicitly. Instead they were passed in as part of `model_kwargs` parameter.\n",
            "  return init_chat_model(\n"
          ]
        },
        {
          "output_type": "stream",
          "name": "stdout",
          "text": [
            "\n",
            "🧭 ROUTER → Routing to: unclear\n"
          ]
        },
        {
          "output_type": "stream",
          "name": "stderr",
          "text": [
            "/tmp/ipython-input-1076811982.py:10: UserWarning: Parameters {'top_p'} should be specified explicitly. Instead they were passed in as part of `model_kwargs` parameter.\n",
            "  return init_chat_model(\n"
          ]
        },
        {
          "output_type": "stream",
          "name": "stdout",
          "text": [
            "\n",
            "🤔 CLARIFICATION AGENT → Generated response\n",
            "\n",
            "🤖 Agent Response:\n",
            "   Hi! I'm here to help. Here are a few ways I can assist you:\n",
            "\n",
            "1️⃣ **Book a restaurant, hotel, or appointment** – I can find options and reserve them for you.\n",
            "2️⃣ **Provide information** – hours, location, pricing, services, or anything else you need to know.\n",
            "3️⃣ **General assistance & guidance** – anything else you’re curious about or need help with.\n",
            "\n",
            "Which of these would you like to explore? Let me know!\n",
            "\n",
            "────────────────────────────────────────────────────────────────────────────────\n",
            "\n",
            "================================================================================\n",
            "TEST CASE 8/8\n",
            "================================================================================\n",
            "👤 User: I want to reserve a hotel room for the weekend\n"
          ]
        },
        {
          "output_type": "stream",
          "name": "stderr",
          "text": [
            "/tmp/ipython-input-1076811982.py:10: UserWarning: Parameters {'top_p'} should be specified explicitly. Instead they were passed in as part of `model_kwargs` parameter.\n",
            "  return init_chat_model(\n"
          ]
        },
        {
          "output_type": "stream",
          "name": "stdout",
          "text": [
            "\n",
            "🧭 ROUTER → Routing to: booking\n"
          ]
        },
        {
          "output_type": "stream",
          "name": "stderr",
          "text": [
            "/tmp/ipython-input-1076811982.py:10: UserWarning: Parameters {'top_p'} should be specified explicitly. Instead they were passed in as part of `model_kwargs` parameter.\n",
            "  return init_chat_model(\n"
          ]
        },
        {
          "output_type": "stream",
          "name": "stdout",
          "text": [
            "\n",
            "🎫 BOOKING AGENT → Generated response\n",
            "\n",
            "🤖 Agent Response:\n",
            "   Sure thing! I’d be happy to help you reserve a hotel room for the weekend. To get started, could you let me know the following details?\n",
            "\n",
            "1. **Check‑in date** (e.g., Saturday, Oct 12)\n",
            "2. **Check‑out date** (e.g., Monday, Oct 14)\n",
            "3. **Number of guests** (adults and children)\n",
            "4. **Room type** you’d like (single, double, suite, etc.)\n",
            "5. Any **special requests** (e.g., non‑smoking, high floor, early check‑in)\n",
            "\n",
            "Once I have that information, I’ll look up availability and walk you through the booking process. Looking forward to hearing from you!\n",
            "\n",
            "────────────────────────────────────────────────────────────────────────────────\n"
          ]
        }
      ]
    },
    {
      "cell_type": "code",
      "source": [],
      "metadata": {
        "id": "9Vd-ZTnoI-Ck"
      },
      "execution_count": null,
      "outputs": []
    }
  ]
}