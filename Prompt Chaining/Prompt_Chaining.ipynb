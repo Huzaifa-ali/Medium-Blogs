{
  "cells": [
    {
      "cell_type": "code",
      "execution_count": 1,
      "metadata": {
        "colab": {
          "base_uri": "https://localhost:8080/"
        },
        "id": "lOI2BmQCgsCk",
        "outputId": "09f631ea-32e9-49dd-af17-4e68bfec8e64"
      },
      "outputs": [
        {
          "name": "stdout",
          "output_type": "stream",
          "text": [
            "\u001b[2K     \u001b[90m━━━━━━━━━━━━━━━━━━━━━━━━━━━━━━━━━━━━━━━━\u001b[0m \u001b[32m43.7/43.7 kB\u001b[0m \u001b[31m2.8 MB/s\u001b[0m eta \u001b[36m0:00:00\u001b[0m\n",
            "\u001b[2K   \u001b[90m━━━━━━━━━━━━━━━━━━━━━━━━━━━━━━━━━━━━━━━━\u001b[0m \u001b[32m2.5/2.5 MB\u001b[0m \u001b[31m34.8 MB/s\u001b[0m eta \u001b[36m0:00:00\u001b[0m\n",
            "\u001b[2K   \u001b[90m━━━━━━━━━━━━━━━━━━━━━━━━━━━━━━━━━━━━━━━━\u001b[0m \u001b[32m153.3/153.3 kB\u001b[0m \u001b[31m11.9 MB/s\u001b[0m eta \u001b[36m0:00:00\u001b[0m\n",
            "\u001b[2K   \u001b[90m━━━━━━━━━━━━━━━━━━━━━━━━━━━━━━━━━━━━━━━━\u001b[0m \u001b[32m75.0/75.0 kB\u001b[0m \u001b[31m5.4 MB/s\u001b[0m eta \u001b[36m0:00:00\u001b[0m\n",
            "\u001b[2K   \u001b[90m━━━━━━━━━━━━━━━━━━━━━━━━━━━━━━━━━━━━━━━━\u001b[0m \u001b[32m447.5/447.5 kB\u001b[0m \u001b[31m31.5 MB/s\u001b[0m eta \u001b[36m0:00:00\u001b[0m\n",
            "\u001b[2K   \u001b[90m━━━━━━━━━━━━━━━━━━━━━━━━━━━━━━━━━━━━━━━━\u001b[0m \u001b[32m43.9/43.9 kB\u001b[0m \u001b[31m2.8 MB/s\u001b[0m eta \u001b[36m0:00:00\u001b[0m\n",
            "\u001b[2K   \u001b[90m━━━━━━━━━━━━━━━━━━━━━━━━━━━━━━━━━━━━━━━━\u001b[0m \u001b[32m54.6/54.6 kB\u001b[0m \u001b[31m4.1 MB/s\u001b[0m eta \u001b[36m0:00:00\u001b[0m\n",
            "\u001b[2K   \u001b[90m━━━━━━━━━━━━━━━━━━━━━━━━━━━━━━━━━━━━━━━━\u001b[0m \u001b[32m64.7/64.7 kB\u001b[0m \u001b[31m4.7 MB/s\u001b[0m eta \u001b[36m0:00:00\u001b[0m\n",
            "\u001b[2K   \u001b[90m━━━━━━━━━━━━━━━━━━━━━━━━━━━━━━━━━━━━━━━━\u001b[0m \u001b[32m50.9/50.9 kB\u001b[0m \u001b[31m3.7 MB/s\u001b[0m eta \u001b[36m0:00:00\u001b[0m\n",
            "\u001b[2K   \u001b[90m━━━━━━━━━━━━━━━━━━━━━━━━━━━━━━━━━━━━━━━━\u001b[0m \u001b[32m216.7/216.7 kB\u001b[0m \u001b[31m16.5 MB/s\u001b[0m eta \u001b[36m0:00:00\u001b[0m\n",
            "\u001b[?25h\u001b[31mERROR: pip's dependency resolver does not currently take into account all the packages that are installed. This behaviour is the source of the following dependency conflicts.\n",
            "google-colab 1.0.0 requires requests==2.32.4, but you have requests 2.32.5 which is incompatible.\u001b[0m\u001b[31m\n",
            "\u001b[0m"
          ]
        }
      ],
      "source": [
        "!pip install --quiet --upgrade langchain langchain-community langgraph langchain_openai\n"
      ]
    },
    {
      "cell_type": "code",
      "execution_count": 95,
      "metadata": {
        "colab": {
          "base_uri": "https://localhost:8080/"
        },
        "id": "87mxqRO0g2aV",
        "outputId": "e569e09f-45fa-45d0-a70d-771d0e1474e7"
      },
      "outputs": [
        {
          "name": "stderr",
          "output_type": "stream",
          "text": [
            "/tmp/ipython-input-2319595913.py:5: UserWarning: Parameters {'top_p'} should be specified explicitly. Instead they were passed in as part of `model_kwargs` parameter.\n",
            "  llm = init_chat_model(\n"
          ]
        }
      ],
      "source": [
        "from langchain.chat_models.base import init_chat_model\n",
        "\n",
        "\n",
        "\n",
        "llm = init_chat_model(\n",
        "    model=\"openai/gpt-oss-20b:free\",\n",
        "    model_provider=\"openai\",\n",
        "    base_url=\"https://openrouter.ai/api/v1\",\n",
        "    api_key = \"YOUR_OPENROUTER_APIt\",\n",
        "    temperature=0.1,\n",
        "    max_tokens=4096,\n",
        "    model_kwargs={\"top_p\" : 0.95}\n",
        "    )\n"
      ]
    },
    {
      "cell_type": "code",
      "execution_count": 151,
      "metadata": {
        "id": "pJVr2xGLvL_m"
      },
      "outputs": [],
      "source": [
        "from typing import TypedDict, List, Optional\n",
        "from langchain_core.messages import BaseMessage\n",
        "from langgraph.graph import StateGraph, START, END\n",
        "from langgraph.prebuilt import ToolNode\n",
        "\n",
        "from langchain_core.messages import HumanMessage\n",
        "from IPython.display import display, Markdown, Image\n",
        "\n",
        "\n",
        "class CustomState(TypedDict):\n",
        "    messages: List[BaseMessage]\n",
        "    retrieved_docs: Optional[List[dict]]\n",
        "    retrieved_text: Optional[str]\n",
        "    outline: Optional[str]\n",
        "    essay: Optional[str]\n",
        "    cleaned_essay: Optional[str]\n",
        "\n",
        "PLANNING_PROMPT_TEMPLATE = \"\"\"\n",
        "You are an expert content strategist. Produce a focused, high-level essay outline for QUESTION: {query}.\n",
        "Return 4–7 numbered sections (intro, body sections, conclusion). For each section give a 1-line purpose, 2–4 bullet points of key ideas/evidence, and any short writing notes (tone, examples, sources).\n",
        "Keep concise and actionable.\n",
        "\"\"\"\n",
        "\n",
        "ESSAY_PROMPT_TEMPLATE = \"\"\"\n",
        "You are an expert content writer. Expand the OUTLINE: {outline} into a coherent essay that follows the structure.\n",
        "For each section include a clear heading, developed paragraphs (2–4 per section as needed), smooth transitions, and a concise conclusion. Preserve the outline’s intent and ensure clarity, flow, and readability.\n",
        "\"\"\"\n",
        "\n",
        "GRAMMAR_PROMPT_TEMPLATE = \"\"\"\n",
        "You are an expert English editor. Improve ESSAY: {essay} for grammar, punctuation, clarity, and flow while preserving meaning and structure.\n",
        "Tighten phrasing, fix tense/voice inconsistencies, improve headings if helpful, and keep tone consistent. Return only the edited essay.\n",
        "\"\"\"\n",
        "\n",
        "\n",
        "def planning_fn(inputs: dict) -> dict:\n",
        "    query = inputs.get(\"messages\", \"\")\n",
        "    print(query)\n",
        "\n",
        "    prompt = PLANNING_PROMPT_TEMPLATE.format(query=query[0].content)\n",
        "    outline = llm.invoke(prompt)\n",
        "    return {\"outline\": outline}\n",
        "\n",
        "def essay_fn(inputs: dict) -> dict:\n",
        "    outline = inputs.get(\"outline\", \"\")\n",
        "    prompt = ESSAY_PROMPT_TEMPLATE.format(outline=outline)\n",
        "    essay = llm.invoke(prompt)\n",
        "    return {\"essay\": essay}\n",
        "\n",
        "def grammar_fn(inputs: dict) -> dict:\n",
        "    essay = inputs.get(\"essay\", \"\")\n",
        "    prompt = GRAMMAR_PROMPT_TEMPLATE.format(essay=essay)\n",
        "    cleaned = llm.invoke(prompt)\n",
        "    return {\"cleaned_essay\": cleaned}\n",
        "\n",
        "def build_blog_graph() -> StateGraph:\n",
        "    \"\"\"\n",
        "    Build and return the StateGraph.\n",
        "    NOTE: ToolNode expects an iterable of tools, so wrap each function in a list.\n",
        "    \"\"\"\n",
        "    graph_builder = StateGraph(CustomState)\n",
        "\n",
        "    graph_builder.add_node(\"Planning\",planning_fn)\n",
        "    graph_builder.add_node(\"EssayWriting\",essay_fn)\n",
        "    graph_builder.add_node(\"GrammarFix\",grammar_fn)\n",
        "\n",
        "    graph_builder.add_edge(START, \"Planning\")\n",
        "    graph_builder.add_edge(\"Planning\", \"EssayWriting\")\n",
        "    graph_builder.add_edge(\"EssayWriting\", \"GrammarFix\")\n",
        "    graph_builder.add_edge(\"GrammarFix\", END)\n",
        "\n",
        "    graph = graph_builder.compile()\n",
        "    return graph\n",
        "\n",
        "\n",
        "\n",
        "graph = build_blog_graph()\n",
        "\n"
      ]
    },
    {
      "cell_type": "code",
      "execution_count": 152,
      "metadata": {
        "colab": {
          "base_uri": "https://localhost:8080/",
          "height": 449
        },
        "id": "DC2GX1xn9l53",
        "outputId": "ed4096af-6475-421c-8b93-e4b0d3cce098"
      },
      "outputs": [
        {
          "data": {
            "image/png": "[encoded data removed]",
            "text/plain": [
              "<IPython.core.display.Image object>"
            ]
          },
          "metadata": {},
          "output_type": "display_data"
        }
      ],
      "source": [
        "display(Image(graph.get_graph().draw_mermaid_png()))"
      ]
    },
    {
      "cell_type": "code",
      "execution_count": 153,
      "metadata": {
        "colab": {
          "base_uri": "https://localhost:8080/"
        },
        "id": "ZV1mcU5s0-0X",
        "outputId": "ada8ed35-5770-43a5-d46d-dedd2caa6a0e"
      },
      "outputs": [
        {
          "name": "stdout",
          "output_type": "stream",
          "text": [
            "[HumanMessage(content='What is Prompt Engineering?', additional_kwargs={}, response_metadata={})]\n"
          ]
        }
      ],
      "source": [
        "input_message = [HumanMessage(content=\"What is Prompt Engineering?\")]\n",
        "result = graph.invoke({\"messages\": input_message})\n",
        "\n"
      ]
    },
    {
      "cell_type": "code",
      "execution_count": 154,
      "metadata": {
        "colab": {
          "base_uri": "https://localhost:8080/",
          "height": 1000
        },
        "id": "wc2x0g4jzMcE",
        "outputId": "fb8ed45f-2de7-4acf-b87d-25c63a68167b"
      },
      "outputs": [
        {
          "data": {
            "text/markdown": [
              "**What Is Prompt Engineering?**  \n",
              "*An essay that demystifies the art and science of crafting the perfect instruction for large‑language models (LLMs).*\n",
              "\n",
              "---\n",
              "\n",
              "## 1. Introduction\n",
              "\n",
              "Imagine telling a machine exactly what you want in a single sentence and having it deliver a polished report, a creative story, or a data‑driven insight in seconds. That sentence is the **prompt**—the bridge between human intent and the vast knowledge stored inside an LLM. In today’s AI‑first world, prompt engineering has become the new “coding” skill that unlocks the full potential of models like GPT‑4, Claude, and Llama‑2.\n",
              "\n",
              "A recent Gartner report (2024) found that **68 % of enterprises** now rely on LLMs for at least one core business function, and the demand for high‑quality prompts is outpacing the supply of skilled practitioners. This surge is driven by the need to extract actionable insights from unstructured data, automate content creation, and build conversational agents that feel genuinely human.\n",
              "\n",
              "This essay walks you through the fundamentals of prompt engineering, the techniques that turn a good prompt into a great one, real‑world applications across industries, and the challenges that still loom on the horizon. By the end, you’ll have a clear roadmap for mastering prompt engineering and a call to action that invites you to experiment right away.\n",
              "\n",
              "---\n",
              "\n",
              "## 2. Fundamentals of Prompt Engineering\n",
              "\n",
              "### 2.1 Core Vocabulary\n",
              "\n",
              "- **Prompt** – The text (or multimodal input) you feed to an LLM.  \n",
              "- **Context window** – The maximum number of tokens the model can consider at once (e.g., GPT‑4’s 8 k or 32 k tokens).  \n",
              "- **Token** – The smallest unit of text the model processes; roughly four characters in English.  \n",
              "- **Temperature** – Controls randomness; 0 = deterministic, 1 = creative.  \n",
              "- **Top‑k / Top‑p** – Sampling strategies that limit the model’s choice to the most probable tokens.\n",
              "\n",
              "These parameters are the knobs you turn to shape the model’s behavior. Understanding them is the first step toward precision prompting.\n",
              "\n",
              "### 2.2 The Prompt–Model–Output Triad\n",
              "\n",
              "```\n",
              "[Prompt]  →  [LLM]  →  [Output]\n",
              "   ↑                 ↓\n",
              "   └───── Context Window ─────┘\n",
              "```\n",
              "\n",
              "- **Prompt**: Sets the task, tone, and constraints.  \n",
              "- **Model**: Interprets the prompt using its internal weights and the context window.  \n",
              "- **Output**: The generated text, influenced by temperature, top‑k, and other sampling settings.\n",
              "\n",
              "The diagram shows that the prompt and the model are inseparable; the output is a product of their interaction. Adjusting any element of the triad can dramatically alter the result.\n",
              "\n",
              "### 2.3 Length vs. Capacity\n",
              "\n",
              "A prompt that is too short may leave the model guessing the intent, while an overly long prompt can exceed the context window, truncating critical information. For GPT‑4, a 32 k‑token window allows you to embed an entire report and a set of instructions, but you must still be mindful of the token budget. OpenAI’s API documentation provides a handy token counter that helps you stay within limits.\n",
              "\n",
              "---\n",
              "\n",
              "## 3. Techniques & Best Practices\n",
              "\n",
              "### 3.1 Prompt Framing\n",
              "\n",
              "- **Question**: “What are the key risks in this investment?”  \n",
              "- **Instruction**: “Summarize the following legal contract in three bullet points.”  \n",
              "- **Example‑Based**: Provide a short example of the desired format before asking the model to generate new content.\n",
              "\n",
              "Choosing the right framing aligns the model’s internal “task” with your goal. For instance, an instruction prompt often yields more consistent formatting than a question prompt.\n",
              "\n",
              "### 3.2 Iterative Refinement\n",
              "\n",
              "Start broad: “Explain quantum computing.”  \n",
              "Then narrow: “Explain quantum computing to a high‑school student in 200 words.”  \n",
              "Follow‑up: “Add a real‑world application example.”\n",
              "\n",
              "Each iteration hones the model’s focus and reduces ambiguity. This process mirrors human debugging: you test, observe, and adjust.\n",
              "\n",
              "### 3.3 System vs. User Messages\n",
              "\n",
              "In chat‑based models, the **system** message sets the overarching persona and rules (“You are a helpful, concise assistant.”). The **user** message contains the task. Separating these layers prevents the model from conflating instructions with content, leading to cleaner outputs.\n",
              "\n",
              "### 3.4 Managing Bias & Safety\n",
              "\n",
              "- **Explicit constraints**: “Do not mention any political ideology.”  \n",
              "- **Safe completion settings**: Enable OpenAI’s safety filters or use a custom moderation endpoint.\n",
              "\n",
              "The “Prompt Engineering Handbook” (Brown et al., 2023) recommends embedding safety clauses directly into the prompt to reduce hallucinations and bias amplification.\n",
              "\n",
              "### 3.5 Case Study: Summarizing a Legal Document\n",
              "\n",
              "**Prompt**\n",
              "\n",
              "```\n",
              "System: You are a legal analyst.\n",
              "User: Summarize the following contract in 150 words, highlighting obligations, deadlines, and penalties.\n",
              "[Contract text]\n",
              "```\n",
              "\n",
              "**Result**  \n",
              "The model delivers a concise, bullet‑point summary that captures all critical clauses, demonstrating how framing and token budgeting work together.\n",
              "\n",
              "---\n",
              "\n",
              "## 4. Applications & Use Cases\n",
              "\n",
              "### 4.1 Content Creation\n",
              "\n",
              "**Prompt**\n",
              "\n",
              "```\n",
              "Write a 300‑word LinkedIn post announcing our new AI‑powered analytics platform, using a friendly yet professional tone.\n",
              "```\n",
              "\n",
              "**Outcome**  \n",
              "A ready‑to‑publish post that aligns with brand voice, illustrating prompt engineering’s role in marketing.\n",
              "\n",
              "### 4.2 Data Extraction\n",
              "\n",
              "**Prompt**\n",
              "\n",
              "```\n",
              "Extract the following fields from the attached invoice: Invoice Number, Date, Total Amount, Vendor Name. Return a JSON object.\n",
              "```\n",
              "\n",
              "**Outcome**  \n",
              "Structured data that can be fed directly into ERP systems, showcasing how prompts turn unstructured text into machine‑readable formats.\n",
              "\n",
              "### 4.3 Decision Support\n",
              "\n",
              "**Prompt**\n",
              "\n",
              "```\n",
              "Given the quarterly sales data, forecast next quarter’s revenue using a linear trend model. Show calculations and assumptions.\n",
              "```\n",
              "\n",
              "**Outcome**  \n",
              "A transparent forecast that includes methodology, useful for finance teams.\n",
              "\n",
              "### 4.4 Personal Assistants & Chatbots\n",
              "\n",
              "**Prompt**\n",
              "\n",
              "```\n",
              "You are a travel concierge. The user wants a 5‑day itinerary in Kyoto, Japan, focusing on cultural experiences and local cuisine. Suggest daily plans with times and restaurant recommendations.\n",
              "```\n",
              "\n",
              "**Outcome**  \n",
              "A personalized itinerary that feels conversational and context‑aware, demonstrating how persona and context retention are engineered through prompts.\n",
              "\n",
              "---\n",
              "\n",
              "## 5. Challenges, Risks, and Future Directions\n",
              "\n",
              "### 5.1 Prompt Brittleness\n",
              "\n",
              "Small wording changes can flip the model’s output dramatically. For example, “Explain the benefits of renewable energy” vs. “Explain the benefits of renewable energy for the environment” can yield different emphases. Researchers are developing *prompt robustness* metrics (ACL 2024) to quantify and mitigate this sensitivity.\n",
              "\n",
              "### 5.2 Scaling Prompt Generation\n",
              "\n",
              "Large enterprises need thousands of prompts for diverse workflows. Automating prompt generation—using templates, parameter sweeps, or LLM‑driven prompt synthesis—can reduce manual effort. Prompt‑as‑code frameworks (e.g., PromptLayer) allow version control and reuse.\n",
              "\n",
              "### 5.3 Ethical Concerns\n",
              "\n",
              "Hallucinations, misinformation, and bias amplification remain significant risks. Prompt engineers must embed safety constraints, monitor outputs, and employ human‑in‑the‑loop reviews, especially in regulated domains like healthcare and finance.\n",
              "\n",
              "### 5.4 Emerging Tools\n",
              "\n",
              "- **Visual Prompt Builders**: Drag‑and‑drop interfaces that let non‑technical users assemble prompts.  \n",
              "- **LLM‑Driven Prompt Optimization**: Models that suggest refinements based on past performance.  \n",
              "- **Prompt‑as‑Code Repositories**: Git‑style versioning for prompt libraries.\n",
              "\n",
              "These tools promise to democratize prompt engineering and make it more systematic.\n",
              "\n",
              "---\n",
              "\n",
              "## 6. Conclusion & Call to Action\n",
              "\n",
              "Prompt engineering is no longer a niche skill; it is the linchpin that turns raw LLM power into tangible business value. By mastering the fundamentals, applying proven techniques, and staying aware of the risks, you can unlock new efficiencies, create compelling content, and build smarter assistants.\n",
              "\n",
              "Start small: pick a routine task—perhaps summarizing a report or drafting a marketing blurb—and experiment with different prompt framings. Document what works, iterate, and share your findings with your team. Resources like the OpenAI Playground, PromptLayer, and community forums are readily available to accelerate your learning curve.\n",
              "\n",
              "**What problem can you solve today with a single well‑crafted prompt?** The answer may surprise you—and the possibilities are limitless."
            ],
            "text/plain": [
              "<IPython.core.display.Markdown object>"
            ]
          },
          "metadata": {},
          "output_type": "display_data"
        }
      ],
      "source": [
        "cleaned_essay = result[\"cleaned_essay\"].content\n",
        "\n",
        "display(Markdown(cleaned_essay))"
      ]
    },
    {
      "cell_type": "code",
      "execution_count": null,
      "metadata": {
        "id": "Dk72oNd5HTsf"
      },
      "outputs": [],
      "source": []
    }
  ],
  "metadata": {
    "colab": {
      "provenance": []
    },
    "kernelspec": {
      "display_name": "Python 3",
      "name": "python3"
    },
    "language_info": {
      "name": "python"
    }
  },
  "nbformat": 4,
  "nbformat_minor": 0
}
